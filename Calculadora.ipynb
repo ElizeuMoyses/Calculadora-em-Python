{
 "cells": [
  {
   "cell_type": "code",
   "execution_count": null,
   "id": "86cc4d7e",
   "metadata": {},
   "outputs": [],
   "source": [
    "# soma \n",
    "def soma():\n",
    "    primeiro_numero = int(input('Primerio numero? '))\n",
    "    segundo_numero = int(input('Segundo numero? '))\n",
    "    total=primeiro_numero + segundo_numero\n",
    "    return print(total)\n",
    "    \n",
    "# Subtração\n",
    "def subtracao():\n",
    "    primeiro_numero = int(input('Primerio numero? '))\n",
    "    segundo_numero = int(input('Segundo numero? '))\n",
    "    total=primeiro_numero - segundo_numero\n",
    "    return print(total)\n",
    "    \n",
    "\n",
    "# Multiplicação\n",
    "def multiplicacao():\n",
    "    primeiro_numero = int(input('Primerio numero? '))\n",
    "    segundo_numero = int(input('Segundo numero? '))\n",
    "    total=primeiro_numero * segundo_numero\n",
    "    return print(total)\n",
    "\n",
    "# Divisão\n",
    "def divisao():\n",
    "    primeiro_numero = int(input('Primerio numero? '))\n",
    "    segundo_numero = int(input('Segundo numero? '))\n",
    "    total=primeiro_numero / segundo_numero\n",
    "    return print(total)\n",
    "\n",
    "\n",
    "   \n",
    "print('Selecione o número da operação desejada:')\n",
    "print('___________________________________________________')\n",
    "print('1 - Soma')\n",
    "print('___________________________________________________')\n",
    "print('2 - Subtração')\n",
    "print('___________________________________________________')\n",
    "print('3 - Multiplicação')\n",
    "print('___________________________________________________')\n",
    "print('4 - Divisão')\n",
    "print('___________________________________________________')\n",
    "\n",
    "escolha = input('Escolha sua operação (1 / 2 / 3 / 4):  ')\n",
    "\n",
    "print('___________________________________________________')\n",
    "\n",
    "if escolha == '1':\n",
    "    soma()\n",
    "elif escolha =='2':\n",
    "    subtracao()\n",
    "elif escolha =='3':\n",
    "    multiplicacao()\n",
    "elif escolha =='4':\n",
    "    divisao()\n",
    "else:\n",
    "    print ('Opção Invalida!')"
   ]
  },
  {
   "cell_type": "code",
   "execution_count": 3,
   "id": "755660b8",
   "metadata": {},
   "outputs": [
    {
     "name": "stdout",
     "output_type": "stream",
     "text": [
      "__________________________________________________________\n",
      "Selecione o número da operação desejada:\n",
      "1 - Soma / 2 - Subtração / 3 - Multiplicação / 4 - Divisão\n",
      "__________________________________________________________\n",
      "Escolha sua operação (1 / 2 / 3 / 4):  1\n",
      "Primerio numero? 20\n",
      "Segundo numero? 30\n",
      "Total é de:  50\n"
     ]
    }
   ],
   "source": [
    "print('__________________________________________________________')\n",
    "print('Selecione o número da operação desejada:')\n",
    "print('1 - Soma / 2 - Subtração / 3 - Multiplicação / 4 - Divisão')\n",
    "print('__________________________________________________________')\n",
    "\n",
    "def calculadora():\n",
    "    escolha = input('Escolha sua operação (1 / 2 / 3 / 4):  ')\n",
    "    primeiro_numero = int(input('Primerio numero? '))\n",
    "    segundo_numero = int(input('Segundo numero? '))\n",
    "    if escolha =='1':    \n",
    "        total=primeiro_numero + segundo_numero\n",
    "    elif escolha =='2':\n",
    "        total=primeiro_numero - segundo_numero\n",
    "    elif escolha =='3':\n",
    "        total=primeiro_numero * segundo_numero\n",
    "    elif escolha =='4':\n",
    "        total=primeiro_numero / segundo_numero\n",
    "    else:\n",
    "        print ('Opção Invalida!')\n",
    "    \n",
    "    \n",
    "    return print(\"Total é de: \",total)\n",
    "\n",
    "calculadora()"
   ]
  },
  {
   "cell_type": "code",
   "execution_count": null,
   "id": "547f34c8",
   "metadata": {},
   "outputs": [],
   "source": []
  }
 ],
 "metadata": {
  "kernelspec": {
   "display_name": "Python 3",
   "language": "python",
   "name": "python3"
  },
  "language_info": {
   "codemirror_mode": {
    "name": "ipython",
    "version": 3
   },
   "file_extension": ".py",
   "mimetype": "text/x-python",
   "name": "python",
   "nbconvert_exporter": "python",
   "pygments_lexer": "ipython3",
   "version": "3.8.8"
  }
 },
 "nbformat": 4,
 "nbformat_minor": 5
}
